{
  "nbformat": 4,
  "nbformat_minor": 0,
  "metadata": {
    "colab": {
      "provenance": []
    },
    "kernelspec": {
      "name": "python3",
      "display_name": "Python 3"
    },
    "language_info": {
      "name": "python"
    }
  },
  "cells": [
    {
      "cell_type": "code",
      "execution_count": null,
      "metadata": {
        "colab": {
          "base_uri": "https://localhost:8080/"
        },
        "id": "6PXyAqGEJ9w7",
        "outputId": "36327a71-ea79-4abf-ce8c-f2f10d6db489"
      },
      "outputs": [
        {
          "output_type": "stream",
          "name": "stdout",
          "text": [
            "Drive already mounted at /content/drive; to attempt to forcibly remount, call drive.mount(\"/content/drive\", force_remount=True).\n"
          ]
        }
      ],
      "source": [
        "from google.colab import drive\n",
        "drive.mount('/content/drive')\n",
        "\n",
        "import numpy as np\n",
        "import pandas as pd\n",
        "\n",
        "import os\n",
        "os.chdir(\"/content/drive/MyDrive/dataset\")\n",
        "\n",
        "dato = pd.read_csv(\"nafld1.csv\",on_bad_lines='skip', sep=',')\n",
        "\n",
        "import matplotlib.pyplot as plt\n",
        "import statsmodels.api as sm\n",
        "from sklearn.model_selection import train_test_split"
      ]
    },
    {
      "cell_type": "code",
      "source": [
        "import pandas as pd\n",
        "import numpy as np\n",
        "import matplotlib.pyplot as plt\n",
        "from sklearn.linear_model import LinearRegression\n",
        "from sklearn.model_selection import train_test_split\n",
        "from sklearn.metrics import mean_squared_error\n",
        "\n",
        "dato = pd.read_csv(\"nafld1.csv\", on_bad_lines='skip', sep=',')\n",
        "\n",
        "# Agregar una nueva columna para definir en valores más simples los años\n",
        "dato['age2'] = dato.groupby('age')['age'].transform(lambda x: x - 30)\n",
        "dato.dropna(inplace=True)\n",
        "\n",
        "# División de los datos en train y test\n",
        "X = dato[['age2']]\n",
        "y = dato['weight']\n",
        "x_train, x_test, y_train, y_test = train_test_split(\n",
        "    X.values.reshape(-1, 1),\n",
        "    y.values.reshape(-1, 1),\n",
        "    train_size=0.8,\n",
        "    random_state=1234,\n",
        "    shuffle=True\n",
        ")\n",
        "\n",
        "# Crear el modelo\n",
        "modelo = LinearRegression()\n",
        "modelo.fit(X=x_train.reshape(-1, 1), y=y_train)\n",
        "\n",
        "# Información del modelo\n",
        "print(\"Intercept:\", modelo.intercept_)\n",
        "print(\"Coeficiente:\", list(zip(X.columns, modelo.coef_.flatten())))\n",
        "print(\"Coeficiente de determinación R cuadrado:\", modelo.score(X, y))\n",
        "\n",
        "# Error de test del modelo\n",
        "predicciones = modelo.predict(X=x_test)\n",
        "print(predicciones[0:3])\n",
        "\n",
        "rmse = mean_squared_error(\n",
        "    y_true=y_test,\n",
        "    y_pred=predicciones,\n",
        "    squared=False\n",
        ")\n",
        "print(\"------------------\")\n",
        "print(f\"El error (RMSE) de test es: {rmse}\")"
      ],
      "metadata": {
        "colab": {
          "base_uri": "https://localhost:8080/"
        },
        "id": "JcbGl4wyKfya",
        "outputId": "0a5862da-7d14-439e-ad38-724619a0afb8"
      },
      "execution_count": null,
      "outputs": [
        {
          "output_type": "stream",
          "name": "stdout",
          "text": [
            "Intercept: [89.63823419]\n",
            "Coeficiente: [('age2', -0.14649384427692558)]\n",
            "Coeficiente de determinación R cuadrado: 0.00873751337548101\n",
            "[[87.29433268]\n",
            " [85.97588808]\n",
            " [82.75302351]]\n",
            "------------------\n",
            "El error (RMSE) de test es: 22.7050131942756\n"
          ]
        },
        {
          "output_type": "stream",
          "name": "stderr",
          "text": [
            "/usr/local/lib/python3.10/dist-packages/sklearn/base.py:432: UserWarning: X has feature names, but LinearRegression was fitted without feature names\n",
            "  warnings.warn(\n"
          ]
        }
      ]
    }
  ]
}
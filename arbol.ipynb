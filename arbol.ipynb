{
  "nbformat": 4,
  "nbformat_minor": 0,
  "metadata": {
    "colab": {
      "provenance": []
    },
    "kernelspec": {
      "name": "python3",
      "display_name": "Python 3"
    },
    "language_info": {
      "name": "python"
    }
  },
  "cells": [
    {
      "cell_type": "code",
      "execution_count": null,
      "metadata": {
        "id": "JZ0D_41wLHXU"
      },
      "outputs": [],
      "source": []
    },
    {
      "cell_type": "code",
      "source": [
        "from google.colab import drive\n",
        "drive.mount('/content/drive')\n",
        "\n",
        "import numpy as np\n",
        "import pandas as pd\n",
        "\n",
        "import os\n",
        "os.chdir(\"/content/drive/MyDrive/dataset\")\n",
        "\n",
        "dato = pd.read_csv(\"nafld1.csv\",on_bad_lines='skip', sep=',')\n",
        "\n",
        "import matplotlib.pyplot as plt\n",
        "import statsmodels.api as sm\n",
        "from sklearn.model_selection import train_test_split"
      ],
      "metadata": {
        "colab": {
          "base_uri": "https://localhost:8080/"
        },
        "id": "5q_GrXMQLh04",
        "outputId": "98229f53-261f-408f-8880-941d04bedf0d"
      },
      "execution_count": null,
      "outputs": [
        {
          "output_type": "stream",
          "name": "stdout",
          "text": [
            "Drive already mounted at /content/drive; to attempt to forcibly remount, call drive.mount(\"/content/drive\", force_remount=True).\n"
          ]
        }
      ]
    },
    {
      "cell_type": "code",
      "source": [
        "import pandas as pd\n",
        "import numpy as np\n",
        "from sklearn.tree import DecisionTreeRegressor\n",
        "from sklearn.model_selection import train_test_split\n",
        "from sklearn.metrics import mean_squared_error\n",
        "from sklearn.tree import export_graphviz\n",
        "\n",
        "dato = pd.read_csv(\"nafld1.csv\", on_bad_lines='skip', sep=',')\n",
        "\n",
        "# Eliminar datos vacíos o erróneos\n",
        "dato.dropna(inplace=True)\n",
        "dato = dato[dato['age'] != 'N/A']\n",
        "\n",
        "# Adecuar las características para la predicción\n",
        "predictors = dato[['age', 'id']]\n",
        "target = dato['weight']\n",
        "\n",
        "# Variables para el entrenamiento del árbol\n",
        "X_entreno, X_test, y_entreno, y_test = train_test_split(predictors, target)\n",
        "\n",
        "# Construir el árbol con los datos\n",
        "arbol = DecisionTreeRegressor(max_depth=3)\n",
        "arbol.fit(X_entreno, y_entreno)\n",
        "\n",
        "# Verificar el error cuadrático medio del árbol\n",
        "predicciones = arbol.predict(X_test)\n",
        "rmse = np.sqrt(mean_squared_error(y_test, predicciones))\n",
        "print(\"Error cuadrático medio:\", rmse)\n",
        "\n",
        "# Generar la gráfica del árbol\n",
        "export_graphviz(arbol, out_file='arbol.dot',\n",
        "                feature_names=['age', 'id'],\n",
        "                impurity=False, filled=True)\n",
        "\n",
        "# Profundidad del árbol\n",
        "profundidad = arbol.get_depth()\n",
        "print(\"Profundidad del árbol:\", profundidad)"
      ],
      "metadata": {
        "colab": {
          "base_uri": "https://localhost:8080/"
        },
        "id": "fp5l_imqLsjB",
        "outputId": "cca4be0c-7f8e-4a2d-a02c-1e597f644b3e"
      },
      "execution_count": null,
      "outputs": [
        {
          "output_type": "stream",
          "name": "stdout",
          "text": [
            "Error cuadrático medio: 22.09149149151355\n",
            "Profundidad del árbol: 3\n"
          ]
        }
      ]
    }
  ]
}